{
 "cells": [
  {
   "cell_type": "code",
   "execution_count": 0,
   "metadata": {
    "colab": {},
    "colab_type": "code",
    "id": "aQHwI5g9iemw"
   },
   "outputs": [],
   "source": [
    "%matplotlib inline\n",
    "\n",
    "import keras\n",
    "from keras.datasets import mnist\n",
    "from keras.utils import to_categorical\n",
    "from keras.models import Sequential\n",
    "from keras.layers import Flatten, Dense, Activation\n",
    "\n",
    "import numpy as np\n",
    "from matplotlib import pyplot as plt\n",
    "from IPython.display import clear_output"
   ]
  },
  {
   "cell_type": "code",
   "execution_count": 0,
   "metadata": {
    "colab": {},
    "colab_type": "code",
    "id": "seHJivArmVJc"
   },
   "outputs": [],
   "source": [
    "class PlotLosses(keras.callbacks.Callback):\n",
    "  def on_train_begin(self, logs={}):\n",
    "    self.i = 0\n",
    "    self.x = []\n",
    "    self.losses = []\n",
    "    self.val_losses = []\n",
    "    self.fig = plt.figure()\n",
    "    self.logs = []\n",
    "    \n",
    "  def on_batch_end(self, batch, logs={}):\n",
    "    self.logs.append(logs)\n",
    "    self.x.append(self.i)\n",
    "    self.losses.append(logs.get('loss'))\n",
    "    self.val_losses.append(logs.get('val_loss'))\n",
    "    self.i += 1\n",
    "        \n",
    "    clear_output(wait=True)\n",
    "    plt.plot(self.x, self.losses, label=\"loss\")\n",
    "    plt.plot(self.x, self.val_losses, label=\"val_loss\")\n",
    "    plt.legend()\n",
    "    plt.show();\n",
    "\n",
    "plot_losses = PlotLosses()"
   ]
  },
  {
   "cell_type": "code",
   "execution_count": 0,
   "metadata": {
    "colab": {},
    "colab_type": "code",
    "id": "YJKrCI2yil_1"
   },
   "outputs": [],
   "source": [
    "class PlotLosses(keras.callbacks.Callback):\n",
    "    def on_train_begin(self, logs={}):\n",
    "        self.i = 0\n",
    "        self.x = []\n",
    "        self.losses = []\n",
    "        self.val_losses = []\n",
    "        \n",
    "        self.fig = plt.figure()\n",
    "        \n",
    "        self.logs = []\n",
    "\n",
    "    def on_epoch_end(self, epoch, logs={}):\n",
    "        \n",
    "        self.logs.append(logs)\n",
    "        self.x.append(self.i)\n",
    "        self.losses.append(logs.get('loss'))\n",
    "        self.val_losses.append(logs.get('val_loss'))\n",
    "        self.i += 1\n",
    "        \n",
    "        clear_output(wait=True)\n",
    "        plt.plot(self.x, self.losses, label=\"loss\")\n",
    "        plt.plot(self.x, self.val_losses, label=\"val_loss\")\n",
    "        plt.legend()\n",
    "        plt.show();\n",
    "        \n",
    "plot_losses = PlotLosses()"
   ]
  },
  {
   "cell_type": "code",
   "execution_count": 0,
   "metadata": {
    "colab": {},
    "colab_type": "code",
    "id": "MrOkhF--5UgQ"
   },
   "outputs": [],
   "source": [
    "import os"
   ]
  },
  {
   "cell_type": "code",
   "execution_count": 0,
   "metadata": {
    "colab": {},
    "colab_type": "code",
    "id": "Azzk0FgS5dcq"
   },
   "outputs": [],
   "source": [
    "from sklearn.metrics import accuracy_score"
   ]
  },
  {
   "cell_type": "code",
   "execution_count": 0,
   "metadata": {
    "colab": {},
    "colab_type": "code",
    "id": "LFBV_LCPmU8n"
   },
   "outputs": [],
   "source": [
    "import cv2\n",
    "import numpy as np\n",
    "#from keras.preprocessing import image\n",
    "\n",
    "def transform(array_of_images):\n",
    "    X = []\n",
    "    for image in array_of_images:\n",
    "      processed_image=cv2.resize(image,(128,128))\n",
    "      processed_image=np.array(processed_image/255.0)\n",
    "      X.append(processed_image)\n",
    "    return np.array(X)\n",
    "\n",
    "import os\n",
    "import tensorflow as tf\n",
    "from keras.models import load_model\n",
    "from keras.models import Sequential\n",
    "from keras.layers import Conv2D\n",
    "from keras.layers import MaxPooling2D\n",
    "from keras.layers import Flatten\n",
    "from keras.layers import Dense\n",
    "from keras.layers import Dropout\n",
    "from keras.layers import BatchNormalization\n",
    "from keras.layers import Activation\n",
    "from sklearn.metrics import accuracy_score\n",
    "from keras.preprocessing.image import ImageDataGenerator\n",
    "from sklearn.model_selection import train_test_split\n",
    "from keras.callbacks import ModelCheckpoint\n",
    "array_of_images = []\n",
    "labels=[]\n",
    "train_path = r'/content/drive/My Drive/Colab Notebooks/images/TRAIN'\n",
    "class_names = {'EOSINOPHIL' :0, 'LYMPHOCYTE':1, 'MONOCYTE':2, 'NEUTROPHIL':3}\n",
    "\n",
    "for x in os.listdir(train_path):\n",
    "    image_path = train_path+'/'+x\n",
    "    for y in os.listdir(image_path):\n",
    "        \n",
    "        #image=image.load_img(image_path+'/'+y)\n",
    "        image=cv2.imread(image_path+'/'+y)\n",
    "        array_of_images.append(image)\n",
    "        labels.append(class_names[str(x)])\n",
    "\n",
    "\n",
    "X_train=transform(array_of_images)\n",
    "\n",
    "\n",
    "\n",
    "X_label=tf.keras.utils.to_categorical(labels,num_classes=4)\n",
    "X_train, X_test, X_label, X_test_label = train_test_split(X_train, X_label, test_size=0.1)\n",
    "model=Sequential()\n",
    "model.add(Conv2D(32, kernel_size=(3, 3),input_shape=(128,128,3),padding='same'))\n",
    "model.add(BatchNormalization())\n",
    "model.add(Activation('relu'))\n",
    "model.add(Conv2D(32, kernel_size=(3, 3),padding='same'))\n",
    "model.add(BatchNormalization())\n",
    "model.add(Activation('relu'))\n",
    "model.add(MaxPooling2D(pool_size = (2, 2)))\n",
    "\n",
    "\n",
    "model.add(Conv2D(32, kernel_size=(3, 3),padding='valid'))\n",
    "model.add(BatchNormalization())\n",
    "model.add(Activation('relu'))\n",
    "model.add(MaxPooling2D(pool_size = (2, 2)))\n",
    "model.add(Dropout(0.4))\n",
    "model.add(Flatten())\n",
    "model.add(Dense(units = 128))\n",
    "model.add(BatchNormalization())\n",
    "model.add(Activation('relu'))\n",
    "model.add(Dropout(0.2))\n",
    "model.add(Dense(units = 4, activation = 'softmax'))\n",
    "model.compile(optimizer='adam', \n",
    "              loss='categorical_crossentropy', \n",
    "              metrics=['accuracy'])\n",
    "datagen = ImageDataGenerator(\n",
    "    rotation_range=180,\n",
    "    width_shift_range=0.25,\n",
    "    height_shift_range=0.25,\n",
    "    zoom_range=(0.75,1.5),\n",
    "    fill_mode='nearest',\n",
    "    cval=0.,\n",
    "    horizontal_flip=True,\n",
    "    vertical_flip=True)\n",
    "\n",
    "\n",
    "val_datagen = ImageDataGenerator(\n",
    "    fill_mode='nearest',\n",
    "    cval=0.)\n",
    "size=len(X_train)\n",
    "size1=size*0.9\n",
    "size2=size*0.1\n",
    "train_generator = datagen.flow(X_train,X_label,batch_size=10)\n",
    "\n",
    "validation_generator = datagen.flow(X_test,X_test_label,batch_size=32)\n",
    "filepath=r\"/content/drive/My Drive/Colab Notebooks/trial_trial.h5\"\n",
    "import keras\n",
    "checkpoint = keras.callbacks.ModelCheckpoint(filepath, monitor='val_acc', verbose=1, save_best_only=True, mode='max')\n",
    "\n",
    "model_info = model.fit_generator(train_generator,epochs = 250,\n",
    "                                 steps_per_epoch= 1+(size1/10),\n",
    "                                initial_epoch = 0,\n",
    "                                 verbose=1,\n",
    "                                 validation_steps = 1+(size2/10),\n",
    "                                 validation_data =validation_generator,\n",
    "                                callbacks=[checkpoint])\n",
    "\n",
    "#model.fit(x=X_train,y=X_label,validation_split=0.2,batch_size=10,shuffle=True, epochs=6)\n",
    "#model.save(r\"C:\\model\\model.h5\")\n",
    "model.save(r\"/content/drive/My Drive/Colab Notebooks/project2.h5\")"
   ]
  },
  {
   "cell_type": "code",
   "execution_count": 0,
   "metadata": {
    "colab": {},
    "colab_type": "code",
    "id": "mCVti2_R2S5h"
   },
   "outputs": [],
   "source": []
  },
  {
   "cell_type": "code",
   "execution_count": 0,
   "metadata": {
    "colab": {},
    "colab_type": "code",
    "id": "8gLCG-6RGj5I"
   },
   "outputs": [],
   "source": [
    "!pip install scipy"
   ]
  },
  {
   "cell_type": "code",
   "execution_count": 0,
   "metadata": {
    "colab": {},
    "colab_type": "code",
    "id": "M-5e2XZFGsrM"
   },
   "outputs": [],
   "source": []
  },
  {
   "cell_type": "code",
   "execution_count": 0,
   "metadata": {
    "colab": {},
    "colab_type": "code",
    "id": "nsPwZtg67tcS"
   },
   "outputs": [],
   "source": [
    "from keras.models import load_model\n",
    "new=load_model(r\"/content/drive/My Drive/Colab Notebooks/project.h5\")\n",
    "new.summary()\n",
    "new.fit(x=X_train,y=X_label,validation_split=0.2,batch_size=10,shuffle=True, epochs=6)"
   ]
  },
  {
   "cell_type": "code",
   "execution_count": 0,
   "metadata": {
    "colab": {},
    "colab_type": "code",
    "id": "RRx00Q5RxQQj"
   },
   "outputs": [],
   "source": [
    "import cv2\n",
    "import numpy as np\n",
    "#from keras.preprocessing import image\n",
    "\n",
    "def transform(array_of_images):\n",
    "    X = []\n",
    "    for image in array_of_images:\n",
    "      processed_image=cv2.resize(image,(128,128))\n",
    "      processed_image=np.array(processed_image/255.0)\n",
    "      X.append(processed_image)\n",
    "    return np.array(X)\n",
    "\n",
    "import os\n",
    "import tensorflow as tf\n",
    "from keras.models import load_model\n",
    "from keras.models import Sequential\n",
    "from keras.layers import Conv2D\n",
    "from keras.layers import MaxPooling2D\n",
    "from keras.layers import Flatten\n",
    "from keras.layers import Dense\n",
    "from keras.layers import Dropout\n",
    "from keras.layers import BatchNormalization\n",
    "from keras.layers import Activation\n",
    "from sklearn.metrics import accuracy_score\n",
    "from keras.preprocessing.image import ImageDataGenerator\n",
    "from sklearn.model_selection import train_test_split\n",
    "from keras.callbacks import ModelCheckpoint\n",
    "array_of_images = []\n",
    "labels=[]\n",
    "train_path = r'/content/drive/My Drive/Colab Notebooks/images/TEST'\n",
    "class_names = {'EOSINOPHIL' :0, 'LYMPHOCYTE':1, 'MONOCYTE':2, 'NEUTROPHIL':3}\n",
    "\n",
    "for x in os.listdir(train_path):\n",
    "    image_path = train_path+'/'+x\n",
    "    for y in os.listdir(image_path):\n",
    "        \n",
    "        #image=image.load_img(image_path+'/'+y)\n",
    "        image=cv2.imread(image_path+'/'+y)\n",
    "        array_of_images.append(image)\n",
    "        labels.append(class_names[str(x)])\n",
    "\n",
    "\n",
    "X_realtest=transform(array_of_images)\n",
    "\n",
    "\n",
    "\n",
    "X_realtest_label=tf.keras.utils.to_categorical(labels,num_classes=4) \n",
    "\n",
    "from keras.models import load_model\n",
    "new=load_model(r\"/content/drive/My Drive/Colab Notebooks/trial.h5\")\n",
    "new.summary()\n",
    "score = model.evaluate_generator(validation_generator, len(X_realtest)/10, workers=1)\n"
   ]
  },
  {
   "cell_type": "code",
   "execution_count": 0,
   "metadata": {
    "colab": {},
    "colab_type": "code",
    "id": "JcEpvdX_GKU1"
   },
   "outputs": [],
   "source": [
    "print( score)"
   ]
  },
  {
   "cell_type": "code",
   "execution_count": 0,
   "metadata": {
    "colab": {},
    "colab_type": "code",
    "id": "j_0qk8HyQEn8"
   },
   "outputs": [],
   "source": [
    "from keras.models import load_model\n",
    "new=load_model(r\"/content/drive/My Drive/Colab Notebooks/.h5\")\n",
    "new.summary()"
   ]
  }
 ],
 "metadata": {
  "accelerator": "GPU",
  "colab": {
   "collapsed_sections": [],
   "name": "blood.ipynb",
   "provenance": [],
   "version": "0.3.2"
  },
  "kernelspec": {
   "display_name": "Python 3",
   "language": "python",
   "name": "python3"
  },
  "language_info": {
   "codemirror_mode": {
    "name": "ipython",
    "version": 3
   },
   "file_extension": ".py",
   "mimetype": "text/x-python",
   "name": "python",
   "nbconvert_exporter": "python",
   "pygments_lexer": "ipython3",
   "version": "3.5.5"
  },
  "widgets": {
   "state": {},
   "version": "1.1.2"
  }
 },
 "nbformat": 4,
 "nbformat_minor": 1
}
