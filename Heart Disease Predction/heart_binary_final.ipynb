{
 "cells": [
  {
   "cell_type": "code",
   "execution_count": 2,
   "metadata": {
    "colab": {
     "base_uri": "https://localhost:8080/",
     "height": 34
    },
    "colab_type": "code",
    "id": "NdBx62ozbxJW",
    "outputId": "00412a44-7dac-459e-a552-e4ad80bbad19"
   },
   "outputs": [
    {
     "name": "stdout",
     "output_type": "stream",
     "text": [
      "Drive already mounted at /content/drive/; to attempt to forcibly remount, call drive.mount(\"/content/drive/\", force_remount=True).\n"
     ]
    }
   ],
   "source": [
    "from google.colab import drive\n",
    "drive.mount('/content/drive/')"
   ]
  },
  {
   "cell_type": "code",
   "execution_count": 0,
   "metadata": {
    "colab": {},
    "colab_type": "code",
    "id": "20tnl935c870"
   },
   "outputs": [],
   "source": [
    "!ls \"/content/drive/My Drive/\""
   ]
  },
  {
   "cell_type": "code",
   "execution_count": 0,
   "metadata": {
    "colab": {},
    "colab_type": "code",
    "id": "5WnFwqERd6f-"
   },
   "outputs": [],
   "source": [
    "import numpy as np \n",
    "import pandas as pd \n",
    "import os"
   ]
  },
  {
   "cell_type": "code",
   "execution_count": 4,
   "metadata": {
    "colab": {
     "base_uri": "https://localhost:8080/",
     "height": 187
    },
    "colab_type": "code",
    "id": "kl3prIdkdF2R",
    "outputId": "90773f33-3e1e-45f7-aa49-ccc5d36fcaf9"
   },
   "outputs": [
    {
     "name": "stdout",
     "output_type": "stream",
     "text": [
      "<class 'pandas.core.frame.DataFrame'>\n",
      "298\n",
      "296\n",
      "296\n",
      "      1    2    3      4      5    6    7      8    9   10   11   12   13  14\n",
      "0  67.0  1.0  4.0  160.0  286.0  0.0  2.0  108.0  1.0  1.5  2.0  3.0  3.0  2 \n",
      "1  67.0  1.0  4.0  120.0  229.0  0.0  2.0  129.0  1.0  2.6  2.0  2.0  7.0  1 \n",
      "2  37.0  1.0  3.0  130.0  250.0  0.0  0.0  187.0  0.0  3.5  3.0  0.0  3.0  0 \n",
      "3  41.0  0.0  2.0  130.0  204.0  0.0  2.0  172.0  0.0  1.4  1.0  0.0  3.0  0 \n",
      "4  56.0  1.0  2.0  120.0  236.0  0.0  0.0  178.0  0.0  0.8  1.0  0.0  3.0  0 \n"
     ]
    }
   ],
   "source": [
    "data2 = pd.read_csv('/content/drive/My Drive/Colab Notebooks/heart3.csv')\n",
    "pd.set_option('display.max_colwidth',-1)\n",
    "print(type(data2))\n",
    "subsetDataFrame = data2[data2['12'] != '?']\n",
    "\n",
    "print(len(subsetDataFrame))\n",
    "subsetDataFrame = subsetDataFrame[subsetDataFrame['13'] != '?']\n",
    "data=subsetDataFrame\n",
    "print(len(subsetDataFrame))\n",
    "print(len(data))\n",
    "print(data2.head())\n",
    "#w['female'] = w['female'].map({'female': 1, 'male': 0})\n",
    "data2['14']=data2['14'].map({0:0,1:1,2:1,3:1,4:1})\n",
    "data['14']=data2['14'].map({0:0,1:1,2:1,3:1,4:1})\n"
   ]
  },
  {
   "cell_type": "code",
   "execution_count": 5,
   "metadata": {
    "colab": {
     "base_uri": "https://localhost:8080/",
     "height": 34
    },
    "colab_type": "code",
    "id": "WAXa5RZHdZMf",
    "outputId": "daa01aa3-33cc-43c0-d37e-8dc0e1d95503"
   },
   "outputs": [
    {
     "name": "stdout",
     "output_type": "stream",
     "text": [
      "(296, 13)\n"
     ]
    }
   ],
   "source": [
    "X=data.loc[:,:'13'].values\n",
    "#print(X.shape)\n",
    "#print(type(X))\n",
    "np.delete(X, 86, axis=0)\n",
    "print(X.shape)\n",
    "#print(X[87][12])\n",
    "#rint(float(X[1][12]))\n",
    "#X=[]\n",
    "for i in range(295):\n",
    "  y1=X[i][11]\n",
    "  y2=X[i][12]\n",
    "  if(y1=='?'):\n",
    "    np.delete(X, (i), axis=0)\n",
    "    print(i)\n",
    "  elif(y2=='?'):\n",
    "    np.delete(X, (i), axis=0)\n",
    "    print(i)\n",
    "  else:\n",
    "    X[i][11]=float(X[i][11])\n",
    "    X[i][12]=float(X[i][12])\n",
    "  \n",
    "  \n",
    "\n",
    "#X.head()"
   ]
  },
  {
   "cell_type": "code",
   "execution_count": 6,
   "metadata": {
    "colab": {
     "base_uri": "https://localhost:8080/",
     "height": 51
    },
    "colab_type": "code",
    "id": "dsxM3JQxdaPf",
    "outputId": "63c4d568-56c5-46dd-805c-7d520fc6d8ff"
   },
   "outputs": [
    {
     "name": "stdout",
     "output_type": "stream",
     "text": [
      "(296, 13)\n",
      "2.0\n"
     ]
    }
   ],
   "source": [
    "print(X.shape)\n",
    "print(X[1][11])\n",
    "#print(y_label.shape)"
   ]
  },
  {
   "cell_type": "code",
   "execution_count": 7,
   "metadata": {
    "colab": {
     "base_uri": "https://localhost:8080/",
     "height": 119
    },
    "colab_type": "code",
    "id": "lOPylw5udfhE",
    "outputId": "254f12dc-bdb7-485e-910d-f4ad66722186"
   },
   "outputs": [
    {
     "name": "stdout",
     "output_type": "stream",
     "text": [
      "296\n",
      "1\n",
      "0\n",
      "159\n",
      "137\n",
      "1\n"
     ]
    }
   ],
   "source": [
    "import tensorflow as tf\n",
    "\n",
    "y=data.loc[:,'14'].values\n",
    "print(len(y))\n",
    "print(y[1])\n",
    "print(y[2])\n",
    "pos=0\n",
    "neg=0\n",
    "mixed=0\n",
    "neutral=0\n",
    "count=0\n",
    "z=[]\n",
    "for i in y:\n",
    "  if i== 0:\n",
    "    pos=pos+1\n",
    "    \n",
    "  else:\n",
    "    neg=neg+1\n",
    "  \n",
    "\n",
    "\n",
    "print(pos)\n",
    "print(neg)\n",
    "\n",
    "\n",
    "print(y[1])    \n",
    "y_label=tf.keras.utils.to_categorical(y,num_classes=2)\n",
    "#prin"
   ]
  },
  {
   "cell_type": "code",
   "execution_count": 10,
   "metadata": {
    "colab": {
     "base_uri": "https://localhost:8080/",
     "height": 88
    },
    "colab_type": "code",
    "id": "Q2fmgT9KlgJG",
    "outputId": "3f801b48-13d5-47b0-d7c3-1f8b07cc3a7f"
   },
   "outputs": [
    {
     "name": "stderr",
     "output_type": "stream",
     "text": [
      "/usr/local/lib/python3.6/dist-packages/sklearn/model_selection/_split.py:2053: FutureWarning: You should specify a value for 'cv' instead of relying on the default value. The default value will change from 3 to 5 in version 0.22.\n",
      "  warnings.warn(CV_WARNING, FutureWarning)\n"
     ]
    },
    {
     "name": "stdout",
     "output_type": "stream",
     "text": [
      "{'C': 10, 'degree': 4, 'gamma': 1}\n"
     ]
    }
   ],
   "source": [
    "from sklearn import svm\n",
    "from sklearn.model_selection import train_test_split\n",
    "from sklearn.model_selection import GridSearchCV\n",
    "def svc_param_selection(X, y):\n",
    "    Cs = [0.01, 0.1, 1 ,10]\n",
    "    gammas = [1, 0.1, 0.01, 10]\n",
    "    degrees=[4, 3, 5]\n",
    "    kernels=['rbf','poly','linear']\n",
    "    param_grid = {'C': Cs,'degree':degrees,'gamma':gammas}\n",
    "    \n",
    "    grid_search = GridSearchCV(svm.SVC(kernel='linear'), param_grid)\n",
    "    grid_search.fit(X, y)\n",
    "    grid_search.best_params_\n",
    "    return grid_search.best_params_\n",
    "  \n",
    "grid=svc_param_selection(X_train,X_label)\n",
    "print(grid)  "
   ]
  },
  {
   "cell_type": "code",
   "execution_count": 9,
   "metadata": {
    "colab": {
     "base_uri": "https://localhost:8080/",
     "height": 85
    },
    "colab_type": "code",
    "id": "VeFl-QwyeQgC",
    "outputId": "c12dea3e-a210-4c97-d6bf-cdd513bcec95"
   },
   "outputs": [
    {
     "name": "stdout",
     "output_type": "stream",
     "text": [
      "266\n",
      "1\n",
      "30\n",
      "30\n"
     ]
    }
   ],
   "source": [
    "from sklearn.model_selection import train_test_split\n",
    "X_train, X_test, X_label, X_test_label = train_test_split(X,y, test_size=0.1)\n",
    "print(len(X_train))\n",
    "print(len(X_label.shape))\n",
    "#print(X_label.columns)\n",
    "print(len(X_test))\n",
    "print(len(X_test_label))"
   ]
  },
  {
   "cell_type": "code",
   "execution_count": 12,
   "metadata": {
    "colab": {
     "base_uri": "https://localhost:8080/",
     "height": 119
    },
    "colab_type": "code",
    "id": "pVxZFVwqACxm",
    "outputId": "62e8416b-db21-4f01-8639-8754ed441de7"
   },
   "outputs": [
    {
     "name": "stdout",
     "output_type": "stream",
     "text": [
      "266\n",
      "266\n"
     ]
    },
    {
     "data": {
      "text/plain": [
       "SVC(C=10, cache_size=200, class_weight=None, coef0=0.0,\n",
       "  decision_function_shape='ovr', degree=4, gamma='auto', kernel='linear',\n",
       "  max_iter=-1, probability=True, random_state=None, shrinking=True,\n",
       "  tol=0.001, verbose=False)"
      ]
     },
     "execution_count": 12,
     "metadata": {
      "tags": []
     },
     "output_type": "execute_result"
    }
   ],
   "source": [
    "from sklearn.svm import SVC\n",
    "cgx = SVC(C=10,kernel='linear',degree=4,gamma='auto',probability=True)\n",
    "print(len(X_train))\n",
    "print(len(X_label))\n",
    "cgx.fit(X_train, X_label)\n",
    "\n"
   ]
  },
  {
   "cell_type": "code",
   "execution_count": 13,
   "metadata": {
    "colab": {
     "base_uri": "https://localhost:8080/",
     "height": 51
    },
    "colab_type": "code",
    "id": "Nfzv5k0sA-8x",
    "outputId": "a738d5c0-61aa-4125-8ba9-d23797d8237f"
   },
   "outputs": [
    {
     "name": "stdout",
     "output_type": "stream",
     "text": [
      "0.8533834586466166\n",
      "0.8333333333333334\n"
     ]
    }
   ],
   "source": [
    "from sklearn.metrics import accuracy_score\n",
    "accuracy=cgx.score(X_train,X_label)\n",
    "print(accuracy)\n",
    "accuracy2=cgx.score(X_test,X_test_label)\n",
    "y_pred4 = cgx.predict(X_test)\n",
    "accuracy = accuracy_score(y_pred4, X_test_label)\n",
    "print(accuracy)\n",
    "#print(accuracy2)"
   ]
  },
  {
   "cell_type": "code",
   "execution_count": 16,
   "metadata": {
    "colab": {
     "base_uri": "https://localhost:8080/",
     "height": 1785
    },
    "colab_type": "code",
    "id": "Q9rOncIGe3bu",
    "outputId": "3d0dc3fe-c949-4ed2-c781-4447f7ad8ef2"
   },
   "outputs": [
    {
     "name": "stdout",
     "output_type": "stream",
     "text": [
      "[0]\ttrain-logloss:0.649483\tvalid-logloss:0.651175\n",
      "Multiple eval metrics have been passed: 'valid-logloss' will be used for early stopping.\n",
      "\n",
      "Will train until valid-logloss hasn't improved in 2000 rounds.\n",
      "[10]\ttrain-logloss:0.407985\tvalid-logloss:0.461799\n",
      "[20]\ttrain-logloss:0.293417\tvalid-logloss:0.412901\n",
      "[30]\ttrain-logloss:0.228659\tvalid-logloss:0.396611\n",
      "[40]\ttrain-logloss:0.189019\tvalid-logloss:0.412683\n",
      "[50]\ttrain-logloss:0.161768\tvalid-logloss:0.422897\n",
      "[60]\ttrain-logloss:0.140935\tvalid-logloss:0.431314\n",
      "[70]\ttrain-logloss:0.125051\tvalid-logloss:0.446239\n",
      "[80]\ttrain-logloss:0.111147\tvalid-logloss:0.458184\n",
      "[90]\ttrain-logloss:0.099853\tvalid-logloss:0.469912\n",
      "[100]\ttrain-logloss:0.089947\tvalid-logloss:0.480037\n",
      "[110]\ttrain-logloss:0.082594\tvalid-logloss:0.481893\n",
      "[120]\ttrain-logloss:0.076139\tvalid-logloss:0.488015\n",
      "[130]\ttrain-logloss:0.070418\tvalid-logloss:0.497935\n",
      "[140]\ttrain-logloss:0.06609\tvalid-logloss:0.510191\n",
      "[150]\ttrain-logloss:0.061997\tvalid-logloss:0.516576\n",
      "[160]\ttrain-logloss:0.058722\tvalid-logloss:0.525357\n",
      "[170]\ttrain-logloss:0.055421\tvalid-logloss:0.534274\n",
      "[180]\ttrain-logloss:0.0526\tvalid-logloss:0.543895\n",
      "[190]\ttrain-logloss:0.050066\tvalid-logloss:0.550346\n",
      "[200]\ttrain-logloss:0.047442\tvalid-logloss:0.553969\n",
      "[210]\ttrain-logloss:0.045538\tvalid-logloss:0.552688\n",
      "[220]\ttrain-logloss:0.043413\tvalid-logloss:0.561101\n",
      "[230]\ttrain-logloss:0.041662\tvalid-logloss:0.568932\n",
      "[240]\ttrain-logloss:0.040067\tvalid-logloss:0.577384\n",
      "[250]\ttrain-logloss:0.03868\tvalid-logloss:0.583107\n",
      "[260]\ttrain-logloss:0.037367\tvalid-logloss:0.583717\n",
      "[270]\ttrain-logloss:0.036273\tvalid-logloss:0.588466\n",
      "[280]\ttrain-logloss:0.035238\tvalid-logloss:0.590039\n",
      "[290]\ttrain-logloss:0.034173\tvalid-logloss:0.594894\n",
      "[300]\ttrain-logloss:0.033237\tvalid-logloss:0.59696\n",
      "[310]\ttrain-logloss:0.032285\tvalid-logloss:0.601407\n",
      "[320]\ttrain-logloss:0.031406\tvalid-logloss:0.609657\n",
      "[330]\ttrain-logloss:0.030659\tvalid-logloss:0.619869\n",
      "[340]\ttrain-logloss:0.030033\tvalid-logloss:0.62455\n",
      "[350]\ttrain-logloss:0.029458\tvalid-logloss:0.631379\n",
      "[360]\ttrain-logloss:0.028929\tvalid-logloss:0.638419\n",
      "[370]\ttrain-logloss:0.02853\tvalid-logloss:0.63808\n",
      "[380]\ttrain-logloss:0.028114\tvalid-logloss:0.643876\n",
      "[390]\ttrain-logloss:0.027677\tvalid-logloss:0.645171\n",
      "[400]\ttrain-logloss:0.027232\tvalid-logloss:0.649729\n",
      "[410]\ttrain-logloss:0.026802\tvalid-logloss:0.656188\n",
      "[420]\ttrain-logloss:0.026386\tvalid-logloss:0.659401\n",
      "[430]\ttrain-logloss:0.026008\tvalid-logloss:0.661848\n",
      "[440]\ttrain-logloss:0.025679\tvalid-logloss:0.66372\n",
      "[450]\ttrain-logloss:0.025277\tvalid-logloss:0.665144\n",
      "[460]\ttrain-logloss:0.024925\tvalid-logloss:0.665349\n",
      "[470]\ttrain-logloss:0.024597\tvalid-logloss:0.668016\n",
      "[480]\ttrain-logloss:0.024235\tvalid-logloss:0.670091\n",
      "[490]\ttrain-logloss:0.02394\tvalid-logloss:0.670479\n",
      "[500]\ttrain-logloss:0.023655\tvalid-logloss:0.671116\n",
      "[510]\ttrain-logloss:0.023371\tvalid-logloss:0.670315\n",
      "[520]\ttrain-logloss:0.023113\tvalid-logloss:0.670637\n",
      "[530]\ttrain-logloss:0.02282\tvalid-logloss:0.671673\n",
      "[540]\ttrain-logloss:0.022586\tvalid-logloss:0.672185\n",
      "[550]\ttrain-logloss:0.022345\tvalid-logloss:0.670034\n",
      "[560]\ttrain-logloss:0.022115\tvalid-logloss:0.670518\n",
      "[570]\ttrain-logloss:0.021924\tvalid-logloss:0.669818\n",
      "[580]\ttrain-logloss:0.02171\tvalid-logloss:0.669788\n",
      "[590]\ttrain-logloss:0.021526\tvalid-logloss:0.669397\n",
      "[600]\ttrain-logloss:0.021359\tvalid-logloss:0.670887\n",
      "[610]\ttrain-logloss:0.021187\tvalid-logloss:0.669781\n",
      "[620]\ttrain-logloss:0.02101\tvalid-logloss:0.671569\n",
      "[630]\ttrain-logloss:0.020838\tvalid-logloss:0.671078\n",
      "[640]\ttrain-logloss:0.020684\tvalid-logloss:0.671329\n",
      "[650]\ttrain-logloss:0.02055\tvalid-logloss:0.671275\n",
      "[660]\ttrain-logloss:0.020407\tvalid-logloss:0.673902\n",
      "[670]\ttrain-logloss:0.020241\tvalid-logloss:0.676013\n",
      "[680]\ttrain-logloss:0.020092\tvalid-logloss:0.679547\n",
      "[690]\ttrain-logloss:0.019954\tvalid-logloss:0.680905\n",
      "[700]\ttrain-logloss:0.019814\tvalid-logloss:0.683192\n",
      "[710]\ttrain-logloss:0.019667\tvalid-logloss:0.684521\n",
      "[720]\ttrain-logloss:0.019539\tvalid-logloss:0.685576\n",
      "[730]\ttrain-logloss:0.019416\tvalid-logloss:0.687022\n",
      "[740]\ttrain-logloss:0.019307\tvalid-logloss:0.686196\n",
      "[750]\ttrain-logloss:0.019202\tvalid-logloss:0.687093\n",
      "[760]\ttrain-logloss:0.019097\tvalid-logloss:0.686579\n",
      "[770]\ttrain-logloss:0.019004\tvalid-logloss:0.686182\n",
      "[780]\ttrain-logloss:0.018916\tvalid-logloss:0.686145\n",
      "[790]\ttrain-logloss:0.018837\tvalid-logloss:0.686924\n",
      "[800]\ttrain-logloss:0.018753\tvalid-logloss:0.690133\n",
      "[810]\ttrain-logloss:0.018676\tvalid-logloss:0.691746\n",
      "[820]\ttrain-logloss:0.018602\tvalid-logloss:0.692733\n",
      "[830]\ttrain-logloss:0.018527\tvalid-logloss:0.696132\n",
      "[840]\ttrain-logloss:0.01845\tvalid-logloss:0.697444\n",
      "[850]\ttrain-logloss:0.01838\tvalid-logloss:0.699543\n",
      "[860]\ttrain-logloss:0.018313\tvalid-logloss:0.700326\n",
      "[870]\ttrain-logloss:0.018248\tvalid-logloss:0.700571\n",
      "[880]\ttrain-logloss:0.018181\tvalid-logloss:0.701822\n",
      "[890]\ttrain-logloss:0.018091\tvalid-logloss:0.704721\n",
      "[900]\ttrain-logloss:0.018008\tvalid-logloss:0.705162\n",
      "[910]\ttrain-logloss:0.017931\tvalid-logloss:0.70725\n",
      "[920]\ttrain-logloss:0.017852\tvalid-logloss:0.707994\n",
      "[930]\ttrain-logloss:0.017781\tvalid-logloss:0.709556\n",
      "[940]\ttrain-logloss:0.017673\tvalid-logloss:0.710659\n",
      "[950]\ttrain-logloss:0.01761\tvalid-logloss:0.711414\n",
      "[960]\ttrain-logloss:0.017541\tvalid-logloss:0.712244\n",
      "[970]\ttrain-logloss:0.017466\tvalid-logloss:0.713679\n",
      "[980]\ttrain-logloss:0.017382\tvalid-logloss:0.716485\n",
      "[990]\ttrain-logloss:0.017318\tvalid-logloss:0.717047\n",
      "[999]\ttrain-logloss:0.017268\tvalid-logloss:0.718391\n"
     ]
    }
   ],
   "source": [
    "import xgboost as xgb\n",
    "\n",
    "# Set our parameters for xgboost\n",
    "params = {}\n",
    "params['objective'] = 'binary:logistic'\n",
    "params['eval_metric'] = 'logloss'\n",
    "params['eta'] = 0.08\n",
    "params['max_depth'] = 4\n",
    "\n",
    "d_train = xgb.DMatrix(X_train, label=X_label)\n",
    "d_valid = xgb.DMatrix(X_test, label=X_test_label)\n",
    "\n",
    "watchlist = [(d_train, 'train'), (d_valid, 'valid')]\n",
    "\n",
    "bst = xgb.train(params, d_train, 1000, watchlist, early_stopping_rounds=2000, verbose_eval=10)"
   ]
  },
  {
   "cell_type": "code",
   "execution_count": 15,
   "metadata": {
    "colab": {
     "base_uri": "https://localhost:8080/",
     "height": 34
    },
    "colab_type": "code",
    "id": "NA4IcUnupGKL",
    "outputId": "8b9573b3-d1a5-44c7-f350-2a87d4038a25"
   },
   "outputs": [
    {
     "name": "stdout",
     "output_type": "stream",
     "text": [
      "Accuracy: 80.00%\n"
     ]
    }
   ],
   "source": [
    "from numpy import loadtxt\n",
    "from xgboost import XGBClassifier\n",
    "from sklearn.model_selection import train_test_split\n",
    "from sklearn.metrics import accuracy_score\n",
    "# load data\n",
    "\n",
    "# fit model no training data\n",
    "model = XGBClassifier()\n",
    "model.fit(X_train, X_label)\n",
    "# make predictions for test data\n",
    "y_pred1 = model.predict(X_test)\n",
    "\n",
    "# evaluate predictions\n",
    "accuracy = accuracy_score(X_test_label, y_pred1)\n",
    "print(\"Accuracy: %.2f%%\" % (accuracy * 100.0))"
   ]
  }
 ],
 "metadata": {
  "colab": {
   "name": "heart(binary).ipynb",
   "provenance": [],
   "version": "0.3.2"
  },
  "kernelspec": {
   "display_name": "Python 3",
   "language": "python",
   "name": "python3"
  },
  "language_info": {
   "codemirror_mode": {
    "name": "ipython",
    "version": 3
   },
   "file_extension": ".py",
   "mimetype": "text/x-python",
   "name": "python",
   "nbconvert_exporter": "python",
   "pygments_lexer": "ipython3",
   "version": "3.5.5"
  },
  "widgets": {
   "state": {},
   "version": "1.1.2"
  }
 },
 "nbformat": 4,
 "nbformat_minor": 1
}
